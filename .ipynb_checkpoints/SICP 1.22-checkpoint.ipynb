{
 "cells": [
  {
   "cell_type": "markdown",
   "id": "fa227541",
   "metadata": {},
   "source": [
    "#lang racket/base\n",
    "\n",
    "\n",
    "(define (runtime) (current-inexact-milliseconds))\n",
    "\n",
    "(define (timed-prime-test n)\n",
    "  (newline)\n",
    "  (display n)\n",
    "  (start-prime-test n (runtime))\n",
    ")\n",
    "\n",
    "(define (start-prime-test n start-time)\n",
    "  (if (prime? n)\n",
    "      (report-prime (- (runtime) start-time))\n",
    "      (prime? (+ n 2)))\n",
    ")\n",
    "\n",
    "(define (report-prime elapsed-time)\n",
    "  (display \" *** \")\n",
    "  (display elapsed-time)\n",
    ")\n",
    "\n",
    "(define (square n)\n",
    "  (* n n))\n",
    "\n",
    "(define (smallest-divisor n)\n",
    "  (find-divisor n 2))\n",
    "\n",
    "(define (divides? a b)\n",
    "  (= (remainder b a) 0))\n",
    "\n",
    "(define (find-divisor n test-divisor)\n",
    "  (cond ((> (square test-divisor) n) n)\n",
    "  ((divides? test-divisor n) test-divisor)\n",
    "  (else (find-divisor n (+ test-divisor 1)))))\n",
    "\n",
    "(define (prime? n)\n",
    "  (= n (smallest-divisor n)))\n",
    "\n",
    "\n",
    "\n",
    "(define (test-range a b)\n",
    "\n",
    "  (if (even? a)\n",
    "      (test-range (+ a 1) b)\n",
    "      (cond ((> a b)\n",
    "             (newline) (display \"DONE\"))\n",
    "            (else (timed-prime-test a)\n",
    "                  (test-range (+ a 2) b))\n",
    "      )\n",
    "  )\n",
    ")\n"
   ]
  },
  {
   "cell_type": "code",
   "execution_count": null,
   "id": "de21acbf",
   "metadata": {},
   "outputs": [],
   "source": [
    "1009 *** 0.002685546875\n",
    "1013 *** 0.00341796875\n",
    "1019 *** 0.00244140625"
   ]
  },
  {
   "cell_type": "code",
   "execution_count": 1,
   "id": "ac3d6a30",
   "metadata": {},
   "outputs": [
    {
     "data": {
      "text/plain": [
       "0.0028483072916666665"
      ]
     },
     "execution_count": 1,
     "metadata": {},
     "output_type": "execute_result"
    }
   ],
   "source": [
    "(0.002685546875+0.00341796875+0.00244140625)/3"
   ]
  },
  {
   "cell_type": "code",
   "execution_count": null,
   "id": "e12c7d43",
   "metadata": {},
   "outputs": [],
   "source": [
    "10007 *** 0.0078125\n",
    "10009 *** 0.007568359375\n",
    "10037 *** 0.007568359375"
   ]
  },
  {
   "cell_type": "code",
   "execution_count": 2,
   "id": "8cf7e745",
   "metadata": {},
   "outputs": [
    {
     "data": {
      "text/plain": [
       "0.007649739583333333"
      ]
     },
     "execution_count": 2,
     "metadata": {},
     "output_type": "execute_result"
    }
   ],
   "source": [
    "(0.0078125+0.007568359375+0.007568359375)/3"
   ]
  },
  {
   "cell_type": "code",
   "execution_count": null,
   "id": "1b1850fd",
   "metadata": {},
   "outputs": [],
   "source": [
    "100003 *** 0.031982421875\n",
    "100019 *** 0.033447265625\n",
    "100043 *** 0.031982421875"
   ]
  },
  {
   "cell_type": "code",
   "execution_count": 3,
   "id": "76a38bf8",
   "metadata": {},
   "outputs": [
    {
     "data": {
      "text/plain": [
       "0.020263671875"
      ]
     },
     "execution_count": 3,
     "metadata": {},
     "output_type": "execute_result"
    }
   ],
   "source": [
    "(0.020751953125+0.020263671875+0.019775390625)/3"
   ]
  },
  {
   "cell_type": "code",
   "execution_count": null,
   "id": "600c1c01",
   "metadata": {},
   "outputs": [],
   "source": [
    "1000003 *** 0.1923828125\n",
    "1000033 *** 0.181396484375\n",
    "1000037 *** 0.180419921875"
   ]
  },
  {
   "cell_type": "code",
   "execution_count": 4,
   "id": "1254d341",
   "metadata": {
    "scrolled": true
   },
   "outputs": [
    {
     "data": {
      "text/plain": [
       "0.08536783854166667"
      ]
     },
     "execution_count": 4,
     "metadata": {},
     "output_type": "execute_result"
    }
   ],
   "source": [
    "(0.113525390625+0.0732421875+0.0693359375)/3"
   ]
  },
  {
   "cell_type": "code",
   "execution_count": 13,
   "id": "4bd64204",
   "metadata": {},
   "outputs": [
    {
     "data": {
      "text/plain": [
       "0.029032389322916668"
      ]
     },
     "execution_count": 13,
     "metadata": {},
     "output_type": "execute_result"
    }
   ],
   "source": [
    "(0.007649739583333333+0.020263671875+0.08536783854166667+0.0028483072916666665)/4"
   ]
  }
 ],
 "metadata": {
  "kernelspec": {
   "display_name": "Python 3 (ipykernel)",
   "language": "python",
   "name": "python3"
  },
  "language_info": {
   "codemirror_mode": {
    "name": "ipython",
    "version": 3
   },
   "file_extension": ".py",
   "mimetype": "text/x-python",
   "name": "python",
   "nbconvert_exporter": "python",
   "pygments_lexer": "ipython3",
   "version": "3.9.7"
  },
  "toc": {
   "base_numbering": 1,
   "nav_menu": {},
   "number_sections": true,
   "sideBar": true,
   "skip_h1_title": false,
   "title_cell": "Table of Contents",
   "title_sidebar": "Contents",
   "toc_cell": false,
   "toc_position": {},
   "toc_section_display": true,
   "toc_window_display": false
  },
  "varInspector": {
   "cols": {
    "lenName": 16,
    "lenType": 16,
    "lenVar": 40
   },
   "kernels_config": {
    "python": {
     "delete_cmd_postfix": "",
     "delete_cmd_prefix": "del ",
     "library": "var_list.py",
     "varRefreshCmd": "print(var_dic_list())"
    },
    "r": {
     "delete_cmd_postfix": ") ",
     "delete_cmd_prefix": "rm(",
     "library": "var_list.r",
     "varRefreshCmd": "cat(var_dic_list()) "
    }
   },
   "types_to_exclude": [
    "module",
    "function",
    "builtin_function_or_method",
    "instance",
    "_Feature"
   ],
   "window_display": false
  }
 },
 "nbformat": 4,
 "nbformat_minor": 5
}

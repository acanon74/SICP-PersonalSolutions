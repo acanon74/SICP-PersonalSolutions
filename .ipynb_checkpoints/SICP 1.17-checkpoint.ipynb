{
 "cells": [
  {
   "cell_type": "code",
   "execution_count": null,
   "id": "3dcb7ff3",
   "metadata": {},
   "outputs": [],
   "source": [
    " (define (double x)\n",
    "  (+ x x)) \n",
    " (define (halve x)\n",
    "  (/ x 2)) \n",
    "  \n",
    " (define (* a b) \n",
    "   (cond ((= b 0) 0) \n",
    "         ((even? b) (double (* a (halve b)))) \n",
    "         (else (+ a (* a (- b 1)))))) "
   ]
  },
  {
   "cell_type": "markdown",
   "id": "b129243b",
   "metadata": {},
   "source": [
    "Had to look the solutions for this one.\n",
    "\n",
    "# Analysis\n",
    "\n",
    "We look to reduce b to a factor of 2 (by means of b-1), once we have it, we know it is possible to reduce the number of operations by collapsing the repeated addition into a multiplication of 2 and half the factors.\n",
    "\n",
    "Let:\n",
    "$$ \n",
    "S = (a_{1} + a_{2} + a_{3} + a_{...} + a_{b})\n",
    "$$\n",
    "\n",
    "Be a given (* a b) operation, where: \n",
    "* b = The number of factors in S (aka how many times a)\n",
    "* b is an even number\n",
    "\n",
    "Then:\n",
    "\n",
    "$$ \n",
    "S = 2 \\cdot (a\\cdot \\frac{b}{2})\n",
    "$$\n",
    "\n",
    "The number of operations then will be:\n",
    "\n",
    "$$\n",
    "\\frac{p}{2}\n",
    "$$\n",
    "\n",
    "for an even b. And:\n",
    "\n",
    "$$\n",
    "1+\\frac{b-1}{2}\n",
    "$$\n",
    "\n",
    "for an odd b."
   ]
  },
  {
   "cell_type": "code",
   "execution_count": null,
   "id": "6cdd8208",
   "metadata": {},
   "outputs": [],
   "source": []
  }
 ],
 "metadata": {
  "kernelspec": {
   "display_name": "Python 3 (ipykernel)",
   "language": "python",
   "name": "python3"
  },
  "language_info": {
   "codemirror_mode": {
    "name": "ipython",
    "version": 3
   },
   "file_extension": ".py",
   "mimetype": "text/x-python",
   "name": "python",
   "nbconvert_exporter": "python",
   "pygments_lexer": "ipython3",
   "version": "3.9.7"
  },
  "toc": {
   "base_numbering": 1,
   "nav_menu": {},
   "number_sections": true,
   "sideBar": true,
   "skip_h1_title": false,
   "title_cell": "Table of Contents",
   "title_sidebar": "Contents",
   "toc_cell": false,
   "toc_position": {},
   "toc_section_display": true,
   "toc_window_display": false
  },
  "varInspector": {
   "cols": {
    "lenName": 16,
    "lenType": 16,
    "lenVar": 40
   },
   "kernels_config": {
    "python": {
     "delete_cmd_postfix": "",
     "delete_cmd_prefix": "del ",
     "library": "var_list.py",
     "varRefreshCmd": "print(var_dic_list())"
    },
    "r": {
     "delete_cmd_postfix": ") ",
     "delete_cmd_prefix": "rm(",
     "library": "var_list.r",
     "varRefreshCmd": "cat(var_dic_list()) "
    }
   },
   "types_to_exclude": [
    "module",
    "function",
    "builtin_function_or_method",
    "instance",
    "_Feature"
   ],
   "window_display": false
  }
 },
 "nbformat": 4,
 "nbformat_minor": 5
}

{
 "cells": [
  {
   "cell_type": "code",
   "execution_count": null,
   "id": "5b416ec4",
   "metadata": {},
   "outputs": [],
   "source": [
    "(define (double x)\n",
    "  (+ x x)) \n",
    "\n",
    "(define (halve x)\n",
    "  (floor (/ x 2))) \n",
    "\n",
    "(define (m a b c)\n",
    "  \t\t(cond ((= b 0) c)\n",
    "  \t   \t\t  ((even? b) (m (double a) (halve b) c))\n",
    "       \t\t  (else (m a (- b 1) (+ c a)))\n",
    "  \t\t)\n",
    "\n",
    ")\n",
    "  \n",
    "(m 2 5 0)"
   ]
  },
  {
   "cell_type": "code",
   "execution_count": null,
   "id": "1cc30d08",
   "metadata": {},
   "outputs": [],
   "source": []
  },
  {
   "cell_type": "markdown",
   "id": "9e2c4489",
   "metadata": {},
   "source": [
    "# Analysis \n",
    "\n",
    "Again, we want to iterate through the even statement, thus we reduce odd cases to an even case using:\n",
    "\n",
    "a*b = a + (a * (b-1))\n",
    "\n",
    "Once we have an even case, we "
   ]
  }
 ],
 "metadata": {
  "kernelspec": {
   "display_name": "Python 3 (ipykernel)",
   "language": "python",
   "name": "python3"
  },
  "language_info": {
   "codemirror_mode": {
    "name": "ipython",
    "version": 3
   },
   "file_extension": ".py",
   "mimetype": "text/x-python",
   "name": "python",
   "nbconvert_exporter": "python",
   "pygments_lexer": "ipython3",
   "version": "3.9.7"
  },
  "toc": {
   "base_numbering": 1,
   "nav_menu": {},
   "number_sections": true,
   "sideBar": true,
   "skip_h1_title": false,
   "title_cell": "Table of Contents",
   "title_sidebar": "Contents",
   "toc_cell": false,
   "toc_position": {},
   "toc_section_display": true,
   "toc_window_display": false
  },
  "varInspector": {
   "cols": {
    "lenName": 16,
    "lenType": 16,
    "lenVar": 40
   },
   "kernels_config": {
    "python": {
     "delete_cmd_postfix": "",
     "delete_cmd_prefix": "del ",
     "library": "var_list.py",
     "varRefreshCmd": "print(var_dic_list())"
    },
    "r": {
     "delete_cmd_postfix": ") ",
     "delete_cmd_prefix": "rm(",
     "library": "var_list.r",
     "varRefreshCmd": "cat(var_dic_list()) "
    }
   },
   "types_to_exclude": [
    "module",
    "function",
    "builtin_function_or_method",
    "instance",
    "_Feature"
   ],
   "window_display": false
  }
 },
 "nbformat": 4,
 "nbformat_minor": 5
}

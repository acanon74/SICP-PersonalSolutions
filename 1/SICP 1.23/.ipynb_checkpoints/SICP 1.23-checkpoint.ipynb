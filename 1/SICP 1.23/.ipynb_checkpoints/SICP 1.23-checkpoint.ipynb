{
 "cells": [
  {
   "cell_type": "code",
   "execution_count": null,
   "id": "4bfb97b7",
   "metadata": {},
   "outputs": [],
   "source": [
    "#lang racket/base\n",
    "\n",
    "(define (runtime) (current-inexact-milliseconds))\n",
    "\n",
    "(define (timed-prime-test n)\n",
    "  (newline)\n",
    "  (display n)\n",
    "  (start-prime-test n (runtime))\n",
    ")\n",
    "\n",
    "(define (start-prime-test n start-time)\n",
    "  (if (prime? n)\n",
    "      (report-prime (- (runtime) start-time))\n",
    "      (prime? (+ n 2)))\n",
    ")\n",
    "\n",
    "(define (report-prime elapsed-time)\n",
    "  (display \" *** \")\n",
    "  (display elapsed-time)\n",
    ")\n",
    "\n",
    "\n",
    "(define (square n)\n",
    "  (* n n))\n",
    "\n",
    "\n",
    "\n",
    "(define (smallest-divisor n)\n",
    "  (find-divisor n 3))\n",
    "\n",
    "(define (divides? a b)\n",
    "  (= (remainder b a) 0))\n",
    "\n",
    "(define (find-divisor n test-divisor)\n",
    "  (cond ((> (square test-divisor) n) n)\n",
    "  ((divides? test-divisor n) test-divisor)\n",
    "  (else (find-divisor n (+ test-divisor 2)))))\n",
    "\n",
    "(define (prime? n)\n",
    "  (= n (smallest-divisor n)))\n",
    "\n",
    "\n",
    "(define (test-range a b)\n",
    "\n",
    "  (if (even? a)\n",
    "      (test-range (+ a 1) b)\n",
    "      (cond ((> a b)\n",
    "             (newline) (display \"DONE\"))\n",
    "            (else (timed-prime-test a)\n",
    "                  (test-range (+ a 2) b))\n",
    "      )\n",
    "  )\n",
    ")\n",
    "\n",
    "\n",
    "\n"
   ]
  },
  {
   "cell_type": "code",
   "execution_count": null,
   "id": "e13d4234",
   "metadata": {},
   "outputs": [],
   "source": [
    "1009 *** 0.002685546875\n",
    "1013 *** 0.00341796875\n",
    "1019 *** 0.00244140625"
   ]
  },
  {
   "cell_type": "code",
   "execution_count": null,
   "id": "6deea565",
   "metadata": {},
   "outputs": [],
   "source": [
    "1009 *** 0.001953125\n",
    "1013 *** 0.001953125\n",
    "1019 *** 0.001953125"
   ]
  },
  {
   "cell_type": "code",
   "execution_count": 4,
   "id": "4e378b62",
   "metadata": {},
   "outputs": [
    {
     "data": {
      "text/plain": [
       "0.0028483072916666665"
      ]
     },
     "execution_count": 4,
     "metadata": {},
     "output_type": "execute_result"
    }
   ],
   "source": [
    "(0.002685546875+0.00341796875+0.00244140625)/3"
   ]
  },
  {
   "cell_type": "code",
   "execution_count": 3,
   "id": "86085470",
   "metadata": {},
   "outputs": [
    {
     "data": {
      "text/plain": [
       "0.001953125"
      ]
     },
     "execution_count": 3,
     "metadata": {},
     "output_type": "execute_result"
    }
   ],
   "source": [
    "(0.001953125+0.001953125+0.001953125)/3"
   ]
  },
  {
   "cell_type": "code",
   "execution_count": null,
   "id": "b8b5dba4",
   "metadata": {},
   "outputs": [],
   "source": [
    "10007 *** 0.0078125\n",
    "10009 *** 0.007568359375\n",
    "10037 *** 0.007568359375"
   ]
  },
  {
   "cell_type": "code",
   "execution_count": null,
   "id": "92a9c952",
   "metadata": {},
   "outputs": [],
   "source": [
    "10007 *** 0.0048828125\n",
    "10009 *** 0.004638671875\n",
    "10037 *** 0.004638671875"
   ]
  },
  {
   "cell_type": "code",
   "execution_count": 6,
   "id": "c993e801",
   "metadata": {},
   "outputs": [
    {
     "data": {
      "text/plain": [
       "0.007649739583333333"
      ]
     },
     "execution_count": 6,
     "metadata": {},
     "output_type": "execute_result"
    }
   ],
   "source": [
    "(0.0078125+0.007568359375+0.007568359375)/3"
   ]
  },
  {
   "cell_type": "code",
   "execution_count": 5,
   "id": "24d0dab4",
   "metadata": {
    "cell_style": "center"
   },
   "outputs": [
    {
     "data": {
      "text/plain": [
       "0.004720052083333333"
      ]
     },
     "execution_count": 5,
     "metadata": {},
     "output_type": "execute_result"
    }
   ],
   "source": [
    "(0.0048828125+0.004638671875+0.004638671875)/3"
   ]
  },
  {
   "cell_type": "code",
   "execution_count": 8,
   "id": "4bf4bf03",
   "metadata": {},
   "outputs": [
    {
     "data": {
      "text/plain": [
       "1.620689655172414"
      ]
     },
     "execution_count": 8,
     "metadata": {},
     "output_type": "execute_result"
    }
   ],
   "source": [
    "0.007649739583333333/0.004720052083333333"
   ]
  },
  {
   "cell_type": "code",
   "execution_count": null,
   "id": "f56ba155",
   "metadata": {},
   "outputs": [],
   "source": [
    "100003 *** 0.020751953125\n",
    "100019 *** 0.020263671875\n",
    "100043 *** 0.019775390625"
   ]
  },
  {
   "cell_type": "code",
   "execution_count": null,
   "id": "cdab97a9",
   "metadata": {},
   "outputs": [],
   "source": [
    "100003 *** 0.01220703125\n",
    "100019 *** 0.012451171875\n",
    "100043 *** 0.014892578125"
   ]
  },
  {
   "cell_type": "code",
   "execution_count": 9,
   "id": "cca384c5",
   "metadata": {
    "scrolled": true
   },
   "outputs": [
    {
     "data": {
      "text/plain": [
       "0.020263671875"
      ]
     },
     "execution_count": 9,
     "metadata": {},
     "output_type": "execute_result"
    }
   ],
   "source": [
    "(0.020751953125+0.020263671875+0.019775390625)/3"
   ]
  },
  {
   "cell_type": "code",
   "execution_count": 10,
   "id": "2bf664fa",
   "metadata": {},
   "outputs": [
    {
     "data": {
      "text/plain": [
       "0.01318359375"
      ]
     },
     "execution_count": 10,
     "metadata": {},
     "output_type": "execute_result"
    }
   ],
   "source": [
    "(0.01220703125+0.012451171875+0.014892578125)/3"
   ]
  },
  {
   "cell_type": "code",
   "execution_count": 35,
   "id": "f8614174",
   "metadata": {},
   "outputs": [
    {
     "data": {
      "text/plain": [
       "165.06024096385542"
      ]
     },
     "execution_count": 35,
     "metadata": {},
     "output_type": "execute_result"
    }
   ],
   "source": [
    "(0.01318359375*100)/0.020263671875+100"
   ]
  },
  {
   "cell_type": "code",
   "execution_count": null,
   "id": "a0cde361",
   "metadata": {},
   "outputs": [],
   "source": []
  },
  {
   "cell_type": "markdown",
   "id": "da13b0b3",
   "metadata": {},
   "source": [
    "TEST EVEN:\n",
    "    \n",
    "0() = sqrt(n)\n",
    "\n",
    "TEST ONLY ODD:\n",
    "\n",
    "0() = sqrt(n/2) = sqrt(1/2)*sqrt(n)"
   ]
  }
 ],
 "metadata": {
  "kernelspec": {
   "display_name": "Python 3 (ipykernel)",
   "language": "python",
   "name": "python3"
  },
  "language_info": {
   "codemirror_mode": {
    "name": "ipython",
    "version": 3
   },
   "file_extension": ".py",
   "mimetype": "text/x-python",
   "name": "python",
   "nbconvert_exporter": "python",
   "pygments_lexer": "ipython3",
   "version": "3.9.7"
  },
  "toc": {
   "base_numbering": 1,
   "nav_menu": {},
   "number_sections": true,
   "sideBar": true,
   "skip_h1_title": false,
   "title_cell": "Table of Contents",
   "title_sidebar": "Contents",
   "toc_cell": false,
   "toc_position": {},
   "toc_section_display": true,
   "toc_window_display": false
  },
  "varInspector": {
   "cols": {
    "lenName": 16,
    "lenType": 16,
    "lenVar": 40
   },
   "kernels_config": {
    "python": {
     "delete_cmd_postfix": "",
     "delete_cmd_prefix": "del ",
     "library": "var_list.py",
     "varRefreshCmd": "print(var_dic_list())"
    },
    "r": {
     "delete_cmd_postfix": ") ",
     "delete_cmd_prefix": "rm(",
     "library": "var_list.r",
     "varRefreshCmd": "cat(var_dic_list()) "
    }
   },
   "types_to_exclude": [
    "module",
    "function",
    "builtin_function_or_method",
    "instance",
    "_Feature"
   ],
   "window_display": false
  }
 },
 "nbformat": 4,
 "nbformat_minor": 5
}

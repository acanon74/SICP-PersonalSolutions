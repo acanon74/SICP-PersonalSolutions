{
 "cells": [
  {
   "cell_type": "code",
   "execution_count": null,
   "id": "50fb8b72",
   "metadata": {},
   "outputs": [],
   "source": [
    "(define (ex b n a)\n",
    "    (cond ((= n 0) a)\n",
    "     \t  ((even? n) (ex (* b b) (/ n 2) a))\n",
    "          (else (ex b (- n 1) (* a b)))\n",
    "    )\n",
    ")\n",
    "\n",
    "(ex 2 30 1)"
   ]
  },
  {
   "cell_type": "markdown",
   "id": "b6766c74",
   "metadata": {},
   "source": [
    "# Analysis\n",
    "\n",
    "1 4\n",
    "1 2\n",
    "1 1\n",
    "16 0\n",
    "\n",
    "\n",
    "We can use successive squaring:\n",
    "\n",
    "b^n = (b^(n/2))^2 = (b^2)^n/2 ::: Given that N is even\n",
    "\n",
    "And now, we can force a successive squaring scenario by applying the iteration to a simplified, even exponent:\n",
    "\n",
    "b^n = b * b^n-1 ::: Given that N is odd\n",
    "\n",
    "Finally, we fall in the iteration by computing successive squaring in b. We continue to have even cases by (n being even) n/2=Even number, until we hit n=2, n/2=1 and we fall in the odd case, at point in which through the else condition, we reduce b^n to b^0=1, and assign the successive squaring to a, which we return in the last call through the n=0 then return a."
   ]
  }
 ],
 "metadata": {
  "kernelspec": {
   "display_name": "Python 3 (ipykernel)",
   "language": "python",
   "name": "python3"
  },
  "language_info": {
   "codemirror_mode": {
    "name": "ipython",
    "version": 3
   },
   "file_extension": ".py",
   "mimetype": "text/x-python",
   "name": "python",
   "nbconvert_exporter": "python",
   "pygments_lexer": "ipython3",
   "version": "3.9.7"
  },
  "toc": {
   "base_numbering": 1,
   "nav_menu": {},
   "number_sections": true,
   "sideBar": true,
   "skip_h1_title": false,
   "title_cell": "Table of Contents",
   "title_sidebar": "Contents",
   "toc_cell": false,
   "toc_position": {},
   "toc_section_display": true,
   "toc_window_display": false
  },
  "varInspector": {
   "cols": {
    "lenName": 16,
    "lenType": 16,
    "lenVar": 40
   },
   "kernels_config": {
    "python": {
     "delete_cmd_postfix": "",
     "delete_cmd_prefix": "del ",
     "library": "var_list.py",
     "varRefreshCmd": "print(var_dic_list())"
    },
    "r": {
     "delete_cmd_postfix": ") ",
     "delete_cmd_prefix": "rm(",
     "library": "var_list.r",
     "varRefreshCmd": "cat(var_dic_list()) "
    }
   },
   "types_to_exclude": [
    "module",
    "function",
    "builtin_function_or_method",
    "instance",
    "_Feature"
   ],
   "window_display": false
  }
 },
 "nbformat": 4,
 "nbformat_minor": 5
}
